{
 "cells": [
  {
   "cell_type": "code",
   "execution_count": 1,
   "metadata": {
    "collapsed": true
   },
   "outputs": [],
   "source": [
    "# -*- coding:utf-8 -*-\n",
    "# 7.2 数据探索\n",
    "#对数据进行基本的探索\n",
    "#返回缺失值个数以及最大最小值\n",
    "import pandas as pd\n",
    "\n",
    "datafile = 'air_data.csv'#航空公司原始数据，第一行是属性名\n",
    "result = 'explore.xlsx'\n",
    "\n",
    "data = pd.read_csv(datafile, encoding='utf-8')\n",
    "explore = data.describe( percentiles = [],include = 'all').T\n",
    "\n",
    "explore['null'] = len(data)-explore['count']\n",
    "\n",
    "\n",
    "explore1 = explore[['null','max','min']]\n",
    "explore1.columns = [u'空值数',u'最大值',u'最小值']#重命名列名\n",
    "\n",
    "explore1.to_excel(result)"
   ]
  },
  {
   "cell_type": "code",
   "execution_count": null,
   "metadata": {
    "collapsed": true
   },
   "outputs": [],
   "source": []
  }
 ],
 "metadata": {
  "kernelspec": {
   "display_name": "Python 2",
   "language": "python",
   "name": "python2"
  },
  "language_info": {
   "codemirror_mode": {
    "name": "ipython",
    "version": 2
   },
   "file_extension": ".py",
   "mimetype": "text/x-python",
   "name": "python",
   "nbconvert_exporter": "python",
   "pygments_lexer": "ipython2",
   "version": "2.7.13"
  }
 },
 "nbformat": 4,
 "nbformat_minor": 2
}
