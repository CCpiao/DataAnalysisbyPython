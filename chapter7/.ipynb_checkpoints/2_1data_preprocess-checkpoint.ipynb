{
 "cells": [
  {
   "cell_type": "code",
   "execution_count": null,
   "metadata": {},
   "outputs": [
    {
     "name": "stderr",
     "output_type": "stream",
     "text": [
      "D:\\Anaconda2\\lib\\site-packages\\pandas\\core\\computation\\expressions.py:183: UserWarning: evaluating in Python space because the '*' operator is not supported by numexpr for the bool dtype, use '&' instead\n",
      "  unsupported[op_str]))\n"
     ]
    }
   ],
   "source": [
    "# -*- coding:utf-8 -*-\n",
    "#  数据预处理\n",
    "\n",
    "from __future__ import division\n",
    "from pandas import DataFrame,Series\n",
    "import pandas as pd\n",
    "\n",
    "datafile = 'air_data.csv'#航空公司原始数据，第一行是属性名\n",
    "data = pd.read_csv(datafile, encoding='utf-8')\n",
    "\n",
    "# 1> 数据清洗 \n",
    "# 丢弃掉票价为0的记录；丢弃票价为0、平均折扣不为零、总飞行公里大于0的记录\n",
    "\n",
    "cleanedfile = 'cleaned.xlsx'\n",
    "\n",
    "data1 = data[data['SUM_YR_1'].notnull()*data['SUM_YR_2'].notnull()] #票价非空值才保留,去掉空值\n",
    "\n",
    "#只保留票价非零的，或者平均折扣率与总飞行公里数同时为零的记录\n",
    "index1 = data1['SUM_YR_1'] != 0\n",
    "index2 = data1['SUM_YR_2'] != 0\n",
    "index3 = (data1['SEG_KM_SUM'] == 0) & (data1['avg_discount'] == 0)\n",
    "data1 = data1[index1 | index2 | index3] #或关系\n",
    "\n",
    "data1.to_excel(cleanedfile)\n",
    "data2 = data1[['LOAD_TIME','FFP_DATE','LAST_TO_END','FLIGHT_COUNT','SEG_KM_SUM','avg_discount']]\n",
    "data2.to_excel('datadecrese.xlsx')"
   ]
  },
  {
   "cell_type": "code",
   "execution_count": null,
   "metadata": {
    "collapsed": true
   },
   "outputs": [],
   "source": [
    "# 2> 数据规约 \n",
    "import numpy as np\n",
    "data = pd.read_excel('datadecrese.xlsx')\n",
    "\n",
    "data['L1'] = pd.to_datetime(data['LOAD_TIME']) - pd.to_datetime(data['FFP_DATE'])# 以纳秒为单位\n",
    "# data['L3'] = data['L1'].astype('int64')/10**10/8640/30 # 此方法假定每个月是30天，这方法不准确\n",
    "data['L3'] = data['L1']/np.timedelta64(1, 'M') # 将间隔时间转成月份为单位，注意，此处必须加一个中间变量 （****）\n"
   ]
  },
  {
   "cell_type": "code",
   "execution_count": null,
   "metadata": {
    "collapsed": true
   },
   "outputs": [],
   "source": [
    "# 将表中的浮点类型保留至小数点后四为\n",
    "# f = lambda x:'%.2f' % x\n",
    "# data[['L3']]  = data[['L3']].applymap(f) # or data['L3'] = data['L3'].apply(f)\n",
    "# data[['L3']]  = data[['L3']].astype('float64')# 注意:使用apply或applymap后，数据类型变成Object,若后续有需要需要在此进行类型转换\n",
    "\n",
    "data[\"L3\"] = data[\"L3\"].round(2) # 等价于上面三句话，数据类型不变\n",
    "data['LAST_TO_END'] = (data['LAST_TO_END']/30).round(2)\n",
    "data['avg_discount'] = data['avg_discount'].round(2)\n",
    "\n",
    "data.drop('L1', axis=1, inplace =True) # 删除中间变量\n",
    "data.drop(data.columns[:2], axis=1, inplace =True) # 去掉不需要的u'LOAD_TIME', u'FFP_DATE'\n",
    "data.rename(columns={'LAST_TO_END':'R','FLIGHT_COUNT':'F','SEG_KM_SUM':'M','avg_discount':'C','L3':'L'},inplace=True)\n",
    "data.to_excel('sxgz.xlsx',index=False)\n",
    "\n",
    "def f(x):\n",
    "    return Series([x.min(),x.max()], index=['min','max'])\n",
    "d = data.apply(f)\n",
    "d.to_excel('summary_data.xlsx')\n"
   ]
  },
  {
   "cell_type": "code",
   "execution_count": null,
   "metadata": {
    "collapsed": true
   },
   "outputs": [],
   "source": [
    "# 3> 数据标准化\n",
    "#标准差标准化\n",
    "d1 = pd.read_excel('sxgz.xlsx')\n",
    "d2 = (d1-d1.mean())/d1.std()\n",
    "d1 =d2.iloc[:,[4,0,1,2,3]]\n",
    "d1.columns = ['Z'+i for i in d1.columns]#表头重命名\n",
    "d1.to_excel('sjbzh.xlsx',index=False)"
   ]
  },
  {
   "cell_type": "code",
   "execution_count": null,
   "metadata": {
    "collapsed": true
   },
   "outputs": [],
   "source": []
  },
  {
   "cell_type": "code",
   "execution_count": null,
   "metadata": {
    "collapsed": true
   },
   "outputs": [],
   "source": []
  },
  {
   "cell_type": "code",
   "execution_count": null,
   "metadata": {
    "collapsed": true
   },
   "outputs": [],
   "source": []
  }
 ],
 "metadata": {
  "kernelspec": {
   "display_name": "Python 2",
   "language": "python",
   "name": "python2"
  },
  "language_info": {
   "codemirror_mode": {
    "name": "ipython",
    "version": 2
   },
   "file_extension": ".py",
   "mimetype": "text/x-python",
   "name": "python",
   "nbconvert_exporter": "python",
   "pygments_lexer": "ipython2",
   "version": "2.7.13"
  }
 },
 "nbformat": 4,
 "nbformat_minor": 2
}
