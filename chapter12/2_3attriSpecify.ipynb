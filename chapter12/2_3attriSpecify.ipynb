{
 "cells": [
  {
   "cell_type": "code",
   "execution_count": 1,
   "metadata": {
    "collapsed": true
   },
   "outputs": [],
   "source": [
    "# -*- coding:utf-8 -*-\n",
    "# 属性规约：确定模型构建中需要的属性\n",
    "import pandas as pd\n",
    "import numpy as np\n",
    "from pandas import Series,DataFrame\n",
    "from sqlalchemy import create_engine\n",
    "import MySQLdb as msd"
   ]
  },
  {
   "cell_type": "code",
   "execution_count": 2,
   "metadata": {},
   "outputs": [
    {
     "name": "stderr",
     "output_type": "stream",
     "text": [
      "D:\\Anaconda2\\lib\\site-packages\\pymysql-0.7.11-py2.7.egg\\pymysql\\cursors.py:165: Warning: (1366, u\"Incorrect string value: '\\\\xD6\\\\xD0\\\\xB9\\\\xFA\\\\xB1\\\\xEA...' for column 'VARIABLE_VALUE' at row 480\")\n",
      "  result = self._query(query)\n",
      "D:\\Anaconda2\\lib\\site-packages\\pandas\\io\\sql.py:1168: UserWarning: The provided table name 'Allformodel_realIP' is not found exactly as such in the database after writing the table, possibly due to case sensitivity issues. Consider using lower case table names.\n",
      "  warnings.warn(msg, UserWarning)\n"
     ]
    }
   ],
   "source": [
    "engine = create_engine('mysql+pymysql://root:@127.0.0.1:3306/jing?charset=utf8')\n",
    "sql = pd.read_sql('changed_six', engine, chunksize = 10000)\n",
    "\n",
    "for i in sql:\n",
    "    j = i[['realIP','fullURL']].copy()\n",
    "    j.to_sql('Allformodel_realIP', engine, index=False,if_exists = 'append')\n"
   ]
  },
  {
   "cell_type": "code",
   "execution_count": 3,
   "metadata": {},
   "outputs": [
    {
     "name": "stderr",
     "output_type": "stream",
     "text": [
      "D:\\Anaconda2\\lib\\site-packages\\ipykernel_launcher.py:8: UserWarning: This pattern has match groups. To actually get the groups, use str.extract.\n",
      "  \n"
     ]
    }
   ],
   "source": [
    "#  获取后续建模需要的数据  咨询（ask）和婚姻（hunyin）数据\n",
    "# 读取数据库数据 \n",
    "engine = create_engine('mysql+pymysql://root:@127.0.0.1:3306/jing?charset=utf8')\n",
    "sql = pd.read_sql('changed_six', engine, chunksize = 10000)\n",
    "l1 = 0\n",
    "l2 = 0\n",
    "for i in sql:\n",
    "    zixun = i[['realIP','fullURL']][i['fullURL'].str.contains('(ask)|(askzt)')].copy()\n",
    "#     l1 = len(zixun) + l1\n",
    "    hunyin = i[['realIP','fullURL']][i['fullURL'].str.contains('hunyin')].copy()    \n",
    "#     l2 = len(hunyin) + l2\n",
    "    zixun.to_sql('zixunformodel', engine, index=False,if_exists = 'append')\n",
    "    hunyin.to_sql('hunyinformodel', engine, index=False,if_exists = 'append')\n",
    "# print l1,l2"
   ]
  },
  {
   "cell_type": "code",
   "execution_count": null,
   "metadata": {
    "collapsed": true
   },
   "outputs": [],
   "source": []
  }
 ],
 "metadata": {
  "kernelspec": {
   "display_name": "Python 2",
   "language": "python",
   "name": "python2"
  },
  "language_info": {
   "codemirror_mode": {
    "name": "ipython",
    "version": 2
   },
   "file_extension": ".py",
   "mimetype": "text/x-python",
   "name": "python",
   "nbconvert_exporter": "python",
   "pygments_lexer": "ipython2",
   "version": "2.7.13"
  }
 },
 "nbformat": 4,
 "nbformat_minor": 2
}
