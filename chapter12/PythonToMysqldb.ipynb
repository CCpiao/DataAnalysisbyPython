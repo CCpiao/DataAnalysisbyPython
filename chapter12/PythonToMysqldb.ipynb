{
 "cells": [
  {
   "cell_type": "code",
   "execution_count": null,
   "metadata": {
    "collapsed": true
   },
   "outputs": [],
   "source": [
    "# 通过Python 操作数据库代码\n",
    "import MySQLdb as msd\n",
    "# connect()方法用于创建数据库的连接，里面可以指定参数：用户名、密码、主机等信息\n",
    "conn = msd.connect(\n",
    "    host = 'localhost',\n",
    "    port = 3306,\n",
    "    user = 'root',\n",
    "    passwd = '',\n",
    "    db = 'jing',\n",
    ")\n",
    "# 通过获取到的数据库连接conn下的cursor()方法来创建游标\n",
    "cur = conn.cursor()\n",
    "\n",
    "# 通过游标cur操作execute（）方法可以写入纯sql语句,操作数据库\n",
    "# 创建表\n",
    "# cur.execute('create table student(id int, name varchar(20), class varchar(20), age varchar(10))')\n",
    "\n",
    "# 插入一条数据\n",
    "cur.execute(\"insert into student values('2','gege','class 2 grade 3','20')\")\n",
    "cur.execute(\"insert into student values('2','bob','class 2 grade 5','21')\")\n",
    "# 修改查询条件的数据\n",
    "cur.execute(\"update student set class = 'class 2 grade 5' where name='bob'\")\n",
    "\n",
    "# 删除查询条件的数据\n",
    "cur.execute(\"delete from student where age='9'\")\n",
    "# cur.execute(\"drop table student3,student4,student5,student6\")\n",
    "\n",
    "\n",
    "cur.close() # 关闭游标\n",
    "conn.commit() # 提交事务，向数据库插入数据时一定要加这句话，否则不会真正插入\n",
    "conn.close()# 关闭数据库连接"
   ]
  }
 ],
 "metadata": {
  "kernelspec": {
   "display_name": "Python 2",
   "language": "python",
   "name": "python2"
  },
  "language_info": {
   "codemirror_mode": {
    "name": "ipython",
    "version": 2
   },
   "file_extension": ".py",
   "mimetype": "text/x-python",
   "name": "python",
   "nbconvert_exporter": "python",
   "pygments_lexer": "ipython2",
   "version": "2.7.13"
  }
 },
 "nbformat": 4,
 "nbformat_minor": 2
}
