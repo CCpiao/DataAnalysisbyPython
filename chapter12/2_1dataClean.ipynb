{
 "cells": [
  {
   "cell_type": "code",
   "execution_count": 1,
   "metadata": {
    "collapsed": true
   },
   "outputs": [],
   "source": [
    "# -*- coding:utf-8 -*-\n",
    "### 第二部分 ###：数据预处理\n",
    "\n",
    "#　数据清洗\n",
    "import pandas as pd\n",
    "import numpy as np\n",
    "from pandas import Series,DataFrame\n",
    "from sqlalchemy import create_engine\n",
    "import MySQLdb as msd\n",
    "# 先自定义函数将表格写入数据库里，以备操作过程中有些数据要写入数据库\n",
    "def savetosql(DF,tablename):\n",
    "    import pandas as pd\n",
    "    from sqlalchemy import create_engine\n",
    "    yconnect = create_engine('mysql+mysqldb://root:@127.0.0.1:3306/jing?charset=utf8')  \n",
    "    pd.io.sql.to_sql(DF,tablename, yconnect, schema='jing', if_exists='append')  "
   ]
  },
  {
   "cell_type": "code",
   "execution_count": 2,
   "metadata": {},
   "outputs": [
    {
     "name": "stderr",
     "output_type": "stream",
     "text": [
      "D:\\Anaconda2\\lib\\site-packages\\pymysql-0.7.11-py2.7.egg\\pymysql\\cursors.py:165: Warning: (1366, u\"Incorrect string value: '\\\\xD6\\\\xD0\\\\xB9\\\\xFA\\\\xB1\\\\xEA...' for column 'VARIABLE_VALUE' at row 480\")\n",
      "  result = self._query(query)\n",
      "D:\\Anaconda2\\lib\\site-packages\\ipykernel_launcher.py:9: SettingWithCopyWarning: \n",
      "A value is trying to be set on a copy of a slice from a DataFrame\n",
      "\n",
      "See the caveats in the documentation: http://pandas.pydata.org/pandas-docs/stable/indexing.html#indexing-view-versus-copy\n",
      "  if __name__ == '__main__':\n"
     ]
    },
    {
     "data": {
      "text/plain": [
       "中间类型网页       2036\n",
       "非中间类型网页    835414\n",
       "Name: type, dtype: int64"
      ]
     },
     "execution_count": 2,
     "metadata": {},
     "output_type": "execute_result"
    }
   ],
   "source": [
    "#-----* 1 *-----查看各个需要删除的规则包含的信息\n",
    "\n",
    "# 删除规则1：统计中间类型网页（带midques_关键字）\n",
    "# 读取数据库数据\n",
    "engine = create_engine('mysql+pymysql://root:@127.0.0.1:3306/jing?charset=utf8')\n",
    "sql = pd.read_sql('all_gzdata', engine, chunksize = 10000)\n",
    "\n",
    "def countmidques(i): \n",
    "    j = i[['fullURL','fullURLId','realIP']].copy()\n",
    "    j['type'] = u'非中间类型网页'\n",
    "    j['type'][j['fullURL'].str.contains('midques_')]= u'中间类型网页'\n",
    "    return j['type'].value_counts()\n",
    "counts1 = [countmidques(i) for i in sql]\n",
    "counts1 = pd.concat(counts1).groupby(level=0).sum()\n",
    "counts1"
   ]
  },
  {
   "cell_type": "code",
   "execution_count": 3,
   "metadata": {},
   "outputs": [
    {
     "data": {
      "text/plain": [
       "无.html点击行为的用户记录    164429\n",
       "有html页面            673021\n",
       "Name: type, dtype: int64"
      ]
     },
     "execution_count": 3,
     "metadata": {},
     "output_type": "execute_result"
    }
   ],
   "source": [
    "# 删除规则2：主网址去掉无.html点击行为的用户记录\n",
    "# 读取数据库数据\n",
    "engine = create_engine('mysql+pymysql://root:@127.0.0.1:3306/jing?charset=utf8')\n",
    "sql = pd.read_sql('all_gzdata', engine, chunksize = 10000)\n",
    "\n",
    "def countnohtml(i):\n",
    "    j = i[['fullURL','pageTitle','fullURLId']].copy()\n",
    "    j['type'] = u'有html页面'\n",
    "    j['type'][j['fullURL'].str.contains('\\.html')==False] = u'无.html点击行为的用户记录'\n",
    "    \n",
    "    return j['type'].value_counts()\n",
    "counts2 = [countnohtml(i) for i in sql]\n",
    "counts2 = pd.concat(counts2).groupby(level=0).sum()\n",
    "counts2"
   ]
  },
  {
   "cell_type": "code",
   "execution_count": 4,
   "metadata": {},
   "outputs": [
    {
     "data": {
      "text/plain": [
       "其他            767758\n",
       "咨询发布成功          5220\n",
       "快搜免费发布法律咨询     11604\n",
       "快车-律师助手        52868\n",
       "Name: type, dtype: int64"
      ]
     },
     "execution_count": 4,
     "metadata": {},
     "output_type": "execute_result"
    }
   ],
   "source": [
    "# 删除规则3：主网址是律师的浏览信息网页（快车-律师助手）、咨询发布成功、快搜免费发布法律\n",
    "# 读取数据库数据\n",
    "# *备注：此规则中要删除的记录的网址均不含有.html，所以，规则三需要过滤的信息包含了规则2中需要过滤的\n",
    "engine = create_engine('mysql+pymysql://root:@127.0.0.1:3306/jing?charset=utf8')\n",
    "sql = pd.read_sql('all_gzdata', engine, chunksize = 10000)\n",
    "\n",
    "def countothers(i): \n",
    "    j = i[['fullURL','pageTitle','fullURLId']].copy()\n",
    "    j['type'] = u'其他'   \n",
    "    j['pageTitle'].fillna(u'空',inplace=True)\n",
    "    j['type'][j['pageTitle'].str.contains(u'快车-律师助手')]= u'快车-律师助手'\n",
    "    j['type'][j['pageTitle'].str.contains(u'咨询发布成功')]= u'咨询发布成功'\n",
    "    j['type'][(j['pageTitle'].str.contains(u'免费发布法律咨询')) | (j['pageTitle'].str.contains(u'法律快搜'))] = u'快搜免费发布法律咨询'\n",
    "    \n",
    "    return j['type'].value_counts()\n",
    "counts3 = [countothers(i) for i in sql]\n",
    "counts3 = pd.concat(counts3).groupby(level=0).sum()\n",
    "counts3"
   ]
  },
  {
   "cell_type": "code",
   "execution_count": 5,
   "metadata": {},
   "outputs": [
    {
     "name": "stdout",
     "output_type": "stream",
     "text": [
      "837450\n"
     ]
    },
    {
     "data": {
      "text/plain": [
       "主网址包含关键字     837349\n",
       "主网址不包含关键字       101\n",
       "Name: type, dtype: int64"
      ]
     },
     "execution_count": 5,
     "metadata": {},
     "output_type": "execute_result"
    }
   ],
   "source": [
    "# 删除规则4: 去掉网址中问号后面的部分，截取问号前面的部分;去掉主网址不包含关键字\n",
    "engine = create_engine('mysql+pymysql://root:@127.0.0.1:3306/jing?charset=utf8')\n",
    "sql = pd.read_sql('all_gzdata', engine, chunksize = 10000)\n",
    "\n",
    "def deletquesafter(i):\n",
    "    j = i[['fullURL']].copy()\n",
    "    j['fullURL'] = j['fullURL'].str.replace('\\?.*','')\n",
    "    j['type'] = u'主网址不包含关键字'\n",
    "    j['type'][j['fullURL'].str.contains('lawtime')] = u'主网址包含关键字'\n",
    "    return j\n",
    "\n",
    "counts4 = [deletquesafter(i) for i in sql]\n",
    "counts4 = pd.concat(counts4)\n",
    "print len(counts4)\n",
    "counts4['type'].value_counts()"
   ]
  },
  {
   "cell_type": "code",
   "execution_count": 6,
   "metadata": {},
   "outputs": [
    {
     "name": "stdout",
     "output_type": "stream",
     "text": [
      "35479\n",
      "801971\n"
     ]
    }
   ],
   "source": [
    "# 删除规则5: 重复数据去除\n",
    "# 读取数据库数据\n",
    "engine = create_engine('mysql+pymysql://root:@127.0.0.1:3306/jing?charset=utf8')\n",
    "sql = pd.read_sql('all_gzdata', engine, chunksize = 10000)\n",
    "\n",
    "def countduplicate(i): \n",
    "    j = i[['fullURL','timestamp_format','realIP']].copy()\n",
    "    return j\n",
    "\n",
    "counts5 = [countduplicate(i) for i in sql]\n",
    "counts5 = pd.concat(counts5)\n",
    "\n",
    "print len(counts5[counts5.duplicated()==True])\n",
    "print len(counts5.drop_duplicates())\n",
    "a = counts5.drop_duplicates()\n"
   ]
  },
  {
   "cell_type": "code",
   "execution_count": 7,
   "metadata": {
    "collapsed": true
   },
   "outputs": [],
   "source": [
    "#-----* 2 *-----Python访问数据库进行清洗操作\n",
    "# 第一步，完成删除规则1，2，4\n",
    "\n",
    "# 对网址的操作 （只要.html结尾的 & 截取问号左边的值 & 只要包含主网址（lawtime)的&网址中间没有midques_的\n",
    "# 读取数据库数据\n",
    "engine = create_engine('mysql+pymysql://root:@127.0.0.1:3306/jing?charset=utf8')\n",
    "sql = pd.read_sql('all_gzdata', engine, chunksize = 10000)\n",
    "\n",
    "for i in sql:\n",
    "    d = i[['realIP', 'fullURL','pageTitle','userID','timestamp_format']].copy() # 只要网址列\n",
    "    d['fullURL'] = d['fullURL'].str.replace('\\?.*','') # 网址中问号后面的部分\n",
    "    d = d[(d['fullURL'].str.contains('\\.html')) & (d['fullURL'].str.contains('lawtime')) & (d['fullURL'].str.contains('midques_') == False)] # 只要含有.html的网址\n",
    "    # 保存到数据库中\n",
    "    d.to_sql('cleaned_one', engine, index = False, if_exists = 'append')"
   ]
  },
  {
   "cell_type": "code",
   "execution_count": 8,
   "metadata": {
    "collapsed": true
   },
   "outputs": [],
   "source": [
    "# 第二步，完成删除规则3\n",
    "\n",
    "# 对网页标题的操作 （删除 快车-律师助手 & 免费发布法律咨询 & 咨询发布成功 & 法律快搜）\n",
    "# 读取数据库数据（基于操作1之后）\n",
    "engine = create_engine('mysql+pymysql://root:@127.0.0.1:3306/jing?charset=utf8')\n",
    "sql = pd.read_sql('cleaned_one', engine, chunksize = 10000)\n",
    "\n",
    "# 对网址的操作 （只要.html结尾的&只要包含主网址（lawtime)的&网址中间没有midques_的\n",
    "for i in sql:\n",
    "    d = i[['realIP','fullURL','pageTitle','userID','timestamp_format']]# 只要网址列\n",
    "    d['pageTitle'].fillna(u'空',inplace=True)\n",
    "    d = d[(d['pageTitle'].str.contains(u'快车-律师助手') == False) & (d['pageTitle'].str.contains(u'咨询发布成功') == False) & \\\n",
    "          (d['pageTitle'].str.contains(u'免费发布法律咨询') == False) & (d['pageTitle'].str.contains(u'法律快搜') == False)\\\n",
    "         ].copy()\n",
    "    # 保存到数据库中\n",
    "    d.to_sql('cleaned_two', engine, index = False, if_exists = 'append')\n",
    "    \n",
    "##### 注意：最后发现，对于网页标题需要进行的删除的记录的网址中，均没有.html，因此，操作2可以不必做，操作1已完成工作"
   ]
  },
  {
   "cell_type": "code",
   "execution_count": 9,
   "metadata": {},
   "outputs": [
    {
     "name": "stdout",
     "output_type": "stream",
     "text": [
      "2012895\n",
      "647300\n"
     ]
    },
    {
     "name": "stderr",
     "output_type": "stream",
     "text": [
      "D:\\Anaconda2\\lib\\site-packages\\sqlalchemy\\engine\\default.py:470: Warning: Incorrect string value: '\\xD6\\xD0\\xB9\\xFA\\xB1\\xEA...' for column 'VARIABLE_VALUE' at row 480\n",
      "  cursor.execute(statement, parameters)\n"
     ]
    }
   ],
   "source": [
    "# 第三步，完成删除规则5\n",
    "\n",
    "# 删除重复记录\n",
    "# 读取数据库数据（基于第二步之后）\n",
    "engine = create_engine('mysql+pymysql://root:@127.0.0.1:3306/jing?charset=utf8')\n",
    "sql = pd.read_sql('cleaned_two', engine, chunksize = 10000)\n",
    "\n",
    "def dropduplicate(i): \n",
    "    j = i[['realIP','fullURL','pageTitle','userID','timestamp_format']].copy()\n",
    "    return j\n",
    "\n",
    "count6 = [dropduplicate(i) for i in sql]\n",
    "count6 = pd.concat(count6)\n",
    "print len(count6)\n",
    "count7 = count6.drop_duplicates(['fullURL','userID','timestamp_format'])\n",
    "print len(count7)\n",
    "savetosql(count7, 'cleaned_three')"
   ]
  },
  {
   "cell_type": "code",
   "execution_count": 10,
   "metadata": {},
   "outputs": [
    {
     "name": "stdout",
     "output_type": "stream",
     "text": [
      "837450\n",
      "1341930\n",
      "2012895\n",
      "1294600\n"
     ]
    }
   ],
   "source": [
    "#-----* 3 *----- 查看进行删除操作后的表中的总记录数\n",
    "# 查看all_gzdata表中的记录数\n",
    "engine = create_engine('mysql+pymysql://root:@127.0.0.1:3306/jing?charset=utf8')\n",
    "sql = pd.read_sql('all_gzdata', engine, chunksize = 10000)\n",
    "lens = 0\n",
    "for i in sql:\n",
    "    temp = len(i)\n",
    "    lens = temp + lens\n",
    "print lens # 837450\n",
    "\n",
    "# 查看cleaned_one表中的记录数\n",
    "engine = create_engine('mysql+pymysql://root:@127.0.0.1:3306/jing?charset=utf8')\n",
    "sql1 = pd.read_sql('cleaned_one', engine, chunksize = 10000)\n",
    "lens1 = 0\n",
    "for i in sql1:\n",
    "    temp = len(i)\n",
    "    lens1 = temp + lens1\n",
    "print lens1 # 670965\n",
    "\n",
    "# 查看cleaned_two表中的记录数\n",
    "engine = create_engine('mysql+pymysql://root:@127.0.0.1:3306/jing?charset=utf8')\n",
    "sql2 = pd.read_sql('cleaned_two', engine, chunksize = 10000)\n",
    "lens2 = 0\n",
    "for i in sql2:\n",
    "    temp = len(i)\n",
    "    lens2 = temp + lens2\n",
    "print lens2 # 670965\n",
    "\n",
    "# 查看cleaned_three表中的记录数\n",
    "engine = create_engine('mysql+pymysql://root:@127.0.0.1:3306/jing?charset=utf8')\n",
    "sql3 = pd.read_sql('cleaned_three', engine, chunksize = 10000)\n",
    "lens3 = 0\n",
    "for i in sql3:\n",
    "    temp = len(i)\n",
    "    lens3 = temp + lens3\n",
    "print lens3 # 647300"
   ]
  },
  {
   "cell_type": "code",
   "execution_count": null,
   "metadata": {
    "collapsed": true
   },
   "outputs": [],
   "source": []
  }
 ],
 "metadata": {
  "kernelspec": {
   "display_name": "Python 2",
   "language": "python",
   "name": "python2"
  },
  "language_info": {
   "codemirror_mode": {
    "name": "ipython",
    "version": 2
   },
   "file_extension": ".py",
   "mimetype": "text/x-python",
   "name": "python",
   "nbconvert_exporter": "python",
   "pygments_lexer": "ipython2",
   "version": "2.7.13"
  }
 },
 "nbformat": 4,
 "nbformat_minor": 2
}
